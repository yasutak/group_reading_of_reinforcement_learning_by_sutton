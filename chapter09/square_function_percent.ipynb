{
 "cells": [
  {
   "cell_type": "code",
   "execution_count": null,
   "metadata": {},
   "outputs": [],
   "source": [
    "#######################################################################\n",
    "# Copyright (C)                                                       #\n",
    "# 2016-2018 Shangtong Zhang(zhangshangtong.cpp@gmail.com)             #\n",
    "# 2016 Kenta Shimada(hyperkentakun@gmail.com)                         #\n",
    "# Permission given to modify the code as long as you keep this        #\n",
    "# declaration at the top                                              #\n",
    "#######################################################################"
   ]
  },
  {
   "cell_type": "code",
   "execution_count": null,
   "metadata": {
    "lines_to_next_cell": 0
   },
   "outputs": [],
   "source": [
    "import numpy as np\n",
    "import matplotlib\n",
    "import matplotlib.pyplot as plt\n",
    "from tqdm import tqdm\n",
    "\n",
    "%matplotlib inline"
   ]
  },
  {
   "cell_type": "code",
   "execution_count": null,
   "metadata": {
    "lines_to_next_cell": 1
   },
   "outputs": [],
   "source": [
    "# wrapper class for an interval\n",
    "# readability is more important than efficiency, so I won't use many tricks\n",
    "class Interval:\n",
    "    # [@left, @right)\n",
    "    def __init__(self, left, right):\n",
    "        self.left = left\n",
    "        self.right = right\n",
    "\n",
    "    # whether a point is in this interval\n",
    "    def contain(self, x):\n",
    "        return self.left <= x < self.right\n",
    "\n",
    "    # length of this interval\n",
    "    def size(self):\n",
    "        return self.right - self.left"
   ]
  },
  {
   "cell_type": "code",
   "execution_count": null,
   "metadata": {
    "lines_to_next_cell": 1
   },
   "outputs": [],
   "source": [
    "# domain of the square wave, [0, 2)\n",
    "DOMAIN = Interval(0.0, 2.0)"
   ]
  },
  {
   "cell_type": "code",
   "execution_count": null,
   "metadata": {
    "lines_to_next_cell": 1
   },
   "outputs": [],
   "source": [
    "# square wave function\n",
    "def square_wave(x):\n",
    "    if 0.5 < x < 1.5:\n",
    "        return 1\n",
    "    return 0"
   ]
  },
  {
   "cell_type": "code",
   "execution_count": null,
   "metadata": {
    "lines_to_next_cell": 1
   },
   "outputs": [],
   "source": [
    "# get @n samples randomly from the square wave\n",
    "def sample(n):\n",
    "    samples = []\n",
    "    for i in range(0, n):\n",
    "        x = np.random.uniform(DOMAIN.left, DOMAIN.right)\n",
    "        y = square_wave(x)\n",
    "        samples.append([x, y])\n",
    "    return samples"
   ]
  },
  {
   "cell_type": "code",
   "execution_count": null,
   "metadata": {
    "lines_to_next_cell": 1
   },
   "outputs": [],
   "source": [
    "# wrapper class for value function\n",
    "class ValueFunction:\n",
    "    # @domain: domain of this function, an instance of Interval\n",
    "    # @alpha: basic step size for one update\n",
    "    def __init__(self, feature_width, domain=DOMAIN, alpha=0.2, num_of_features=50):\n",
    "        self.feature_width = feature_width\n",
    "        self.num_of_featrues = num_of_features\n",
    "        self.features = []\n",
    "        self.alpha = alpha\n",
    "        self.domain = domain\n",
    "\n",
    "        # there are many ways to place those feature windows,\n",
    "        # following is just one possible way\n",
    "        step = (domain.size() - feature_width) / (num_of_features - 1)\n",
    "        left = domain.left\n",
    "        for i in range(0, num_of_features - 1):\n",
    "            self.features.append(Interval(left, left + feature_width))\n",
    "            left += step\n",
    "        self.features.append(Interval(left, domain.right))\n",
    "\n",
    "        # initialize weight for each feature\n",
    "        self.weights = np.zeros(num_of_features)\n",
    "\n",
    "    # for point @x, return the indices of corresponding feature windows\n",
    "    def get_active_features(self, x):\n",
    "        active_features = []\n",
    "        for i in range(0, len(self.features)):\n",
    "            if self.features[i].contain(x):\n",
    "                active_features.append(i)\n",
    "        return active_features\n",
    "\n",
    "    # estimate the value for point @x\n",
    "    def value(self, x):\n",
    "        active_features = self.get_active_features(x)\n",
    "        return np.sum(self.weights[active_features])\n",
    "\n",
    "    # update weights given sample of point @x\n",
    "    # @delta: y - x\n",
    "    def update(self, delta, x):\n",
    "        active_features = self.get_active_features(x)\n",
    "        delta *= self.alpha / len(active_features)\n",
    "        for index in active_features:\n",
    "            self.weights[index] += delta"
   ]
  },
  {
   "cell_type": "code",
   "execution_count": null,
   "metadata": {
    "lines_to_next_cell": 1
   },
   "outputs": [],
   "source": [
    "# train @value_function with a set of samples @samples\n",
    "def approximate(samples, value_function):\n",
    "    for x, y in samples:\n",
    "        delta = y - value_function.value(x)\n",
    "        value_function.update(delta, x)"
   ]
  },
  {
   "cell_type": "code",
   "execution_count": null,
   "metadata": {},
   "outputs": [],
   "source": [
    "# Figure 9.8\n",
    "def figure_9_8():\n",
    "    num_of_samples = [10, 40, 160, 640, 2560, 10240]\n",
    "    feature_widths = [0.2, 0.4, 1.0]\n",
    "    plt.figure(figsize=(30, 20))\n",
    "    axis_x = np.arange(DOMAIN.left, DOMAIN.right, 0.02)\n",
    "    for index, num_of_sample in enumerate(num_of_samples):\n",
    "        print(num_of_sample, 'samples')\n",
    "        samples = sample(num_of_sample)\n",
    "        value_functions = [ValueFunction(feature_width) for feature_width in feature_widths]\n",
    "        plt.subplot(2, 3, index + 1)\n",
    "        plt.title('%d samples' % (num_of_sample))\n",
    "        for value_function in value_functions:\n",
    "            approximate(samples, value_function)\n",
    "            values = [value_function.value(x) for x in axis_x]\n",
    "            plt.plot(axis_x, values, label='feature width %.01f' % (value_function.feature_width))\n",
    "        plt.legend()\n",
    "\n",
    "    plt.show()\n",
    "    plt.close()\n",
    "\n",
    "\n",
    "figure_9_8()"
   ]
  }
 ],
 "metadata": {
  "jupytext": {
   "cell_metadata_filter": "-all",
   "main_language": "python",
   "notebook_metadata_filter": "-all"
  }
 },
 "nbformat": 4,
 "nbformat_minor": 4
}
