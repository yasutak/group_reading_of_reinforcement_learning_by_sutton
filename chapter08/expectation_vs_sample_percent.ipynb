{
 "cells": [
  {
   "cell_type": "code",
   "execution_count": null,
   "metadata": {
    "lines_to_next_cell": 1
   },
   "outputs": [],
   "source": [
    "#######################################################################\n",
    "# Copyright (C)                                                       #\n",
    "# 2018 Shangtong Zhang(zhangshangtong.cpp@gmail.com)                  #\n",
    "# Permission given to modify the code as long as you keep this        #\n",
    "# declaration at the top                                              #\n",
    "#######################################################################\n",
    "\n",
    "import numpy as np\n",
    "import matplotlib\n",
    "import matplotlib.pyplot as plt\n",
    "from tqdm import tqdm\n",
    "\n",
    "%matplotlib inline\n",
    "\n",
    "# for figure 8.7, run a simulation of 2 * @b steps\n",
    "def b_steps(b):\n",
    "    # set the value of the next b states\n",
    "    # it is not clear how to set this\n",
    "    distribution = np.random.randn(b)\n",
    "\n",
    "    # true value of the current state\n",
    "    true_v = np.mean(distribution)\n",
    "\n",
    "    samples = []\n",
    "    errors = []\n",
    "\n",
    "    # sample 2b steps\n",
    "    for t in range(2 * b):\n",
    "        v = np.random.choice(distribution)\n",
    "        samples.append(v)\n",
    "        errors.append(np.abs(np.mean(samples) - true_v))\n",
    "\n",
    "    return errors"
   ]
  },
  {
   "cell_type": "code",
   "execution_count": null,
   "metadata": {
    "lines_to_next_cell": 1
   },
   "outputs": [],
   "source": [
    "def figure_8_7():\n",
    "    runs = 100\n",
    "    branch = [2, 10, 100, 1000]\n",
    "    for b in branch:\n",
    "        errors = np.zeros((runs, 2 * b))\n",
    "        for r in tqdm(np.arange(runs)):\n",
    "            errors[r] = b_steps(b)\n",
    "        errors = errors.mean(axis=0)\n",
    "        x_axis = (np.arange(len(errors)) + 1) / float(b)\n",
    "        plt.plot(x_axis, errors, label='b = %d' % (b))\n",
    "\n",
    "    plt.xlabel('number of computations')\n",
    "    plt.xticks([0, 1.0, 2.0], ['0', 'b', '2b'])\n",
    "    plt.ylabel('RMS error')\n",
    "    plt.legend()\n",
    "\n",
    "    plt.show()\n",
    "    plt.close()"
   ]
  },
  {
   "cell_type": "code",
   "execution_count": null,
   "metadata": {},
   "outputs": [],
   "source": [
    "figure_8_7()"
   ]
  }
 ],
 "metadata": {
  "jupytext": {
   "cell_metadata_filter": "-all",
   "main_language": "python",
   "notebook_metadata_filter": "-all"
  }
 },
 "nbformat": 4,
 "nbformat_minor": 4
}
