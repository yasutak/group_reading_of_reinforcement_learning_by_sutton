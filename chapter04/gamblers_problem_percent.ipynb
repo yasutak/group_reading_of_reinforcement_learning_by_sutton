{
 "cells": [
  {
   "cell_type": "code",
   "execution_count": null,
   "metadata": {},
   "outputs": [],
   "source": [
    "#######################################################################\n",
    "# Copyright (C)                                                       #\n",
    "# 2016-2018 Shangtong Zhang(zhangshangtong.cpp@gmail.com)             #\n",
    "# 2016 Kenta Shimada(hyperkentakun@gmail.com)                         #\n",
    "# Permission given to modify the code as long as you keep this        #\n",
    "# declaration at the top                                              #\n",
    "#######################################################################"
   ]
  },
  {
   "cell_type": "code",
   "execution_count": null,
   "metadata": {
    "lines_to_next_cell": 1
   },
   "outputs": [],
   "source": [
    "import matplotlib\n",
    "import matplotlib.pyplot as plt\n",
    "import numpy as np\n",
    "\n",
    "#matplotlib.use('Agg')\n",
    "%matplotlib inline\n",
    "\n",
    "# goal\n",
    "GOAL = 100\n",
    "\n",
    "# all states, including state 0 and state 100\n",
    "STATES = np.arange(GOAL + 1)\n",
    "\n",
    "# probability of head\n",
    "HEAD_PROB = 0.4"
   ]
  },
  {
   "cell_type": "code",
   "execution_count": null,
   "metadata": {},
   "outputs": [],
   "source": [
    "def figure_4_3():\n",
    "    # state value\n",
    "    state_value = np.zeros(GOAL + 1)\n",
    "    state_value[GOAL] = 1.0\n",
    "\n",
    "    sweeps_history = []\n",
    "\n",
    "    # value iteration\n",
    "    while True:\n",
    "        old_state_value = state_value.copy()\n",
    "        sweeps_history.append(old_state_value)\n",
    "\n",
    "        for state in STATES[1:GOAL]:\n",
    "            # get possilbe actions for current state\n",
    "            actions = np.arange(min(state, GOAL - state) + 1)\n",
    "            action_returns = []\n",
    "            for action in actions:\n",
    "                action_returns.append(\n",
    "                    HEAD_PROB * state_value[state + action] + (1 - HEAD_PROB) * state_value[state - action])\n",
    "            new_value = np.max(action_returns)\n",
    "            state_value[state] = new_value\n",
    "        delta = abs(state_value - old_state_value).max()\n",
    "        if delta < 1e-9:\n",
    "            sweeps_history.append(state_value)\n",
    "            break\n",
    "\n",
    "    # compute the optimal policy\n",
    "    policy = np.zeros(GOAL + 1)\n",
    "    for state in STATES[1:GOAL]:\n",
    "        actions = np.arange(min(state, GOAL - state) + 1)\n",
    "        action_returns = []\n",
    "        for action in actions:\n",
    "            action_returns.append(\n",
    "                HEAD_PROB * state_value[state + action] + (1 - HEAD_PROB) * state_value[state - action])\n",
    "\n",
    "        # round to resemble the figure in the book, see\n",
    "        # https://github.com/ShangtongZhang/reinforcement-learning-an-introduction/issues/83\n",
    "        policy[state] = actions[np.argmax(np.round(action_returns[1:], 5)) + 1]\n",
    "\n",
    "    plt.figure(figsize=(10, 20))\n",
    "\n",
    "    plt.subplot(2, 1, 1)\n",
    "    for sweep, state_value in enumerate(sweeps_history):\n",
    "        plt.plot(state_value, label='sweep {}'.format(sweep))\n",
    "    plt.xlabel('Capital')\n",
    "    plt.ylabel('Value estimates')\n",
    "    plt.legend(loc='best')\n",
    "\n",
    "    plt.subplot(2, 1, 2)\n",
    "    plt.scatter(STATES, policy)\n",
    "    plt.xlabel('Capital')\n",
    "    plt.ylabel('Final policy (stake)')\n",
    "\n",
    "    plt.show()\n",
    "    plt.close()"
   ]
  },
  {
   "cell_type": "code",
   "execution_count": null,
   "metadata": {},
   "outputs": [],
   "source": [
    "figure_4_3()"
   ]
  }
 ],
 "metadata": {
  "jupytext": {
   "cell_metadata_filter": "-all",
   "main_language": "python",
   "notebook_metadata_filter": "-all"
  }
 },
 "nbformat": 4,
 "nbformat_minor": 4
}
