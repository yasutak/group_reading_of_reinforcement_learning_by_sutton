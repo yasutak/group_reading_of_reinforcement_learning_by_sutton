{
 "cells": [
  {
   "cell_type": "code",
   "execution_count": null,
   "metadata": {},
   "outputs": [],
   "source": [
    "#######################################################################\n",
    "# Copyright (C)                                                       #\n",
    "# 2016-2018 Shangtong Zhang(zhangshangtong.cpp@gmail.com)             #\n",
    "# 2016 Kenta Shimada(hyperkentakun@gmail.com)                         #\n",
    "# Permission given to modify the code as long as you keep this        #\n",
    "# declaration at the top                                              #\n",
    "#######################################################################"
   ]
  },
  {
   "cell_type": "code",
   "execution_count": null,
   "metadata": {
    "lines_to_next_cell": 1
   },
   "outputs": [],
   "source": [
    "import numpy as np\n",
    "import matplotlib\n",
    "#matplotlib.use('Agg')\n",
    "import matplotlib.pyplot as plt\n",
    "\n",
    "%matplotlib inline\n",
    "\n",
    "ACTION_BACK = 0\n",
    "ACTION_END = 1\n",
    "\n",
    "# behavior policy\n",
    "def behavior_policy():\n",
    "    return np.random.binomial(1, 0.5)\n",
    "\n",
    "# target policy\n",
    "def target_policy():\n",
    "    return ACTION_BACK\n",
    "\n",
    "# one turn\n",
    "def play():\n",
    "    # track the action for importance ratio\n",
    "    trajectory = []\n",
    "    while True:\n",
    "        action = behavior_policy()\n",
    "        trajectory.append(action)\n",
    "        if action == ACTION_END:\n",
    "            return 0, trajectory\n",
    "        if np.random.binomial(1, 0.9) == 0:\n",
    "            return 1, trajectory"
   ]
  },
  {
   "cell_type": "code",
   "execution_count": null,
   "metadata": {
    "lines_to_next_cell": 1
   },
   "outputs": [],
   "source": [
    "def figure_5_4():\n",
    "    runs = 10\n",
    "    episodes = 100000\n",
    "    for run in range(runs):\n",
    "        rewards = []\n",
    "        for episode in range(0, episodes):\n",
    "            reward, trajectory = play()\n",
    "            if trajectory[-1] == ACTION_END:\n",
    "                rho = 0\n",
    "            else:\n",
    "                rho = 1.0 / pow(0.5, len(trajectory))\n",
    "            rewards.append(rho * reward)\n",
    "        rewards = np.add.accumulate(rewards)\n",
    "        estimations = np.asarray(rewards) / np.arange(1, episodes + 1)\n",
    "        plt.plot(estimations)\n",
    "    plt.xlabel('Episodes (log scale)')\n",
    "    plt.ylabel('Ordinary Importance Sampling')\n",
    "    plt.xscale('log')\n",
    "\n",
    "    plt.show()\n",
    "    plt.close()"
   ]
  },
  {
   "cell_type": "code",
   "execution_count": null,
   "metadata": {
    "lines_to_next_cell": 2
   },
   "outputs": [],
   "source": [
    "figure_5_4()"
   ]
  },
  {
   "cell_type": "code",
   "execution_count": null,
   "metadata": {},
   "outputs": [],
   "source": []
  }
 ],
 "metadata": {
  "jupytext": {
   "cell_metadata_filter": "-all",
   "main_language": "python",
   "notebook_metadata_filter": "-all"
  }
 },
 "nbformat": 4,
 "nbformat_minor": 4
}
